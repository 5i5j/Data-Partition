{
  "nbformat": 4,
  "nbformat_minor": 0,
  "metadata": {
    "colab": {
      "name": "MNIST_nn.ipynb",
      "provenance": [],
      "collapsed_sections": [],
      "authorship_tag": "ABX9TyMPtfPm7k47ncVrerwh1aYw",
      "include_colab_link": true
    },
    "kernelspec": {
      "name": "python3",
      "display_name": "Python 3"
    },
    "language_info": {
      "name": "python"
    }
  },
  "cells": [
    {
      "cell_type": "markdown",
      "metadata": {
        "id": "view-in-github",
        "colab_type": "text"
      },
      "source": [
        "<a href=\"https://colab.research.google.com/github/5i5j/Data-Partition/blob/master/MNIST_nn.ipynb\" target=\"_parent\"><img src=\"https://colab.research.google.com/assets/colab-badge.svg\" alt=\"Open In Colab\"/></a>"
      ]
    },
    {
      "cell_type": "code",
      "execution_count": null,
      "metadata": {
        "id": "AJ-AakULLYId"
      },
      "outputs": [],
      "source": [
        "# 导入包\n",
        "import torchvision\n",
        "import torch\n",
        "from torch.autograd import Variable\n",
        "from torchvision import datasets, transforms\n",
        "from torch.utils.data import DataLoader\n",
        "import cv2"
      ]
    },
    {
      "cell_type": "code",
      "source": [
        "# 导入数据集\n",
        "train_dataset = datasets.MNIST(root = 'data/',\n",
        "                               train = True,\n",
        "                               transform = transforms.ToTensor(),\n",
        "                               download = True)\n",
        "test_dataset = datasets.MNIST(root = 'data/',\n",
        "                              train=False,\n",
        "                              transform = transforms.ToTensor(),\n",
        "                              download = True)"
      ],
      "metadata": {
        "id": "F-40gKzoLzuY"
      },
      "execution_count": null,
      "outputs": []
    },
    {
      "cell_type": "code",
      "source": [
        "\n"
      ],
      "metadata": {
        "id": "Rvle7z4tMaXk"
      },
      "execution_count": null,
      "outputs": []
    },
    {
      "cell_type": "code",
      "source": [
        "# Define my loss\n",
        "loss = nn.CrossEntropyLoss()"
      ],
      "metadata": {
        "id": "HBmEZqQJTqoR"
      },
      "execution_count": null,
      "outputs": []
    },
    {
      "cell_type": "code",
      "source": [
        "# Training loop\n",
        "nb_epochs = 5\n",
        "for epoch in range(nb_epochs):\n",
        "  for batch in train_loader:\n",
        "    x, y = batch\n",
        "\n",
        "    # x: b x 1 x 28 x 28\n",
        "    b = x.size(0)\n",
        "    x = x.view(b, -1)\n",
        "\n",
        "    # l forward\n",
        "    l = "
      ],
      "metadata": {
        "id": "LZEVqWetT60s"
      },
      "execution_count": null,
      "outputs": []
    }
  ]
}